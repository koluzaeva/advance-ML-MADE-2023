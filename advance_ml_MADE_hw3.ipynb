{
  "nbformat": 4,
  "nbformat_minor": 0,
  "metadata": {
    "colab": {
      "provenance": [],
      "authorship_tag": "ABX9TyMtfocsiehW+vSs308goInz",
      "include_colab_link": true
    },
    "kernelspec": {
      "name": "python3",
      "display_name": "Python 3"
    },
    "language_info": {
      "name": "python"
    }
  },
  "cells": [
    {
      "cell_type": "markdown",
      "metadata": {
        "id": "view-in-github",
        "colab_type": "text"
      },
      "source": [
        "<a href=\"https://colab.research.google.com/github/koluzaeva/advance-ML-MADE-2023/blob/main/advance_ml_MADE_hw3.ipynb\" target=\"_parent\"><img src=\"https://colab.research.google.com/assets/colab-badge.svg\" alt=\"Open In Colab\"/></a>"
      ]
    },
    {
      "cell_type": "markdown",
      "source": [
        "# Продвинутое машинное обучение\n",
        "##Домашнее задание №3. "
      ],
      "metadata": {
        "id": "ESb5gVTa1vAi"
      }
    },
    {
      "cell_type": "code",
      "source": [
        "from google.colab import drive\n",
        "drive.mount('/content/drive')"
      ],
      "metadata": {
        "colab": {
          "base_uri": "https://localhost:8080/"
        },
        "id": "poKXrLHGBhHi",
        "outputId": "c6245b27-52a8-43a7-c9b4-8453be0d1d1b"
      },
      "execution_count": 1,
      "outputs": [
        {
          "output_type": "stream",
          "name": "stdout",
          "text": [
            "Mounted at /content/drive\n"
          ]
        }
      ]
    },
    {
      "cell_type": "markdown",
      "source": [
        "https://www.dropbox.com/s/k23enjvr3fb40o5/corpora.zip "
      ],
      "metadata": {
        "id": "H4aQbyP7Bwf4"
      }
    },
    {
      "cell_type": "markdown",
      "source": [
        "###1. Реализуйте базовый частотный метод по Шерлоку Холмсу:\n",
        "  * подсчитайте частоты букв по корпусам (пунктуацию и капитализацию можно просто опустить, а вот пробелы лучше оставить);\n",
        "  * возьмите какие-нибудь тестовые тексты (нужно взять по меньшей мере 2-3 предложения, иначе вряд ли сработает), зашифруйте их посредством случайной перестановки символов;\n",
        "расшифруйте их таким частотным методом.\n"
      ],
      "metadata": {
        "id": "LR9Ye1htBayV"
      }
    },
    {
      "cell_type": "code",
      "source": [
        "!wget https://www.dropbox.com/s/k23enjvr3fb40o5/corpora.zip corpora.zip"
      ],
      "metadata": {
        "colab": {
          "base_uri": "https://localhost:8080/"
        },
        "id": "Wvz2TM51C6el",
        "outputId": "dc515259-938e-4293-e1d5-14c7f3f68e9f"
      },
      "execution_count": 2,
      "outputs": [
        {
          "output_type": "stream",
          "name": "stdout",
          "text": [
            "--2023-05-03 07:07:43--  https://www.dropbox.com/s/k23enjvr3fb40o5/corpora.zip\n",
            "Resolving www.dropbox.com (www.dropbox.com)... 162.125.3.18, 2620:100:6018:18::a27d:312\n",
            "Connecting to www.dropbox.com (www.dropbox.com)|162.125.3.18|:443... connected.\n",
            "HTTP request sent, awaiting response... 302 Found\n",
            "Location: /s/raw/k23enjvr3fb40o5/corpora.zip [following]\n",
            "--2023-05-03 07:07:43--  https://www.dropbox.com/s/raw/k23enjvr3fb40o5/corpora.zip\n",
            "Reusing existing connection to www.dropbox.com:443.\n",
            "HTTP request sent, awaiting response... 302 Found\n",
            "Location: https://uc240e88762bed92d7934c3cf617.dl.dropboxusercontent.com/cd/0/inline/B7V9U1GYWbCOn0zUFCdeTx9HybI4P-N6UT7bWFfJAU1v40KYW3mWwlaYw3QkRsZ8XXMP4Lr2GJ2vDHjIzzBkv9KiR-8i5EMTeWt44tOy9xecCEyk4Z_c0Cfc88iZtf9pt8vO4o8L5hHiFgGdwgVWSzu3U21kkluJKmBwK5IRGbP9ZA/file# [following]\n",
            "--2023-05-03 07:07:44--  https://uc240e88762bed92d7934c3cf617.dl.dropboxusercontent.com/cd/0/inline/B7V9U1GYWbCOn0zUFCdeTx9HybI4P-N6UT7bWFfJAU1v40KYW3mWwlaYw3QkRsZ8XXMP4Lr2GJ2vDHjIzzBkv9KiR-8i5EMTeWt44tOy9xecCEyk4Z_c0Cfc88iZtf9pt8vO4o8L5hHiFgGdwgVWSzu3U21kkluJKmBwK5IRGbP9ZA/file\n",
            "Resolving uc240e88762bed92d7934c3cf617.dl.dropboxusercontent.com (uc240e88762bed92d7934c3cf617.dl.dropboxusercontent.com)... 162.125.3.15, 2620:100:6030:15::a27d:500f\n",
            "Connecting to uc240e88762bed92d7934c3cf617.dl.dropboxusercontent.com (uc240e88762bed92d7934c3cf617.dl.dropboxusercontent.com)|162.125.3.15|:443... connected.\n",
            "HTTP request sent, awaiting response... 302 Found\n",
            "Location: /cd/0/inline2/B7Uf_AhpPwlptacGfp8vG0r7lEJCXz0pIQI8PZSs3-3Uhey4QVp99t-5COzBVp4sJJrqVSj4wINT4JLyGFrQBElShxERUbF1SRCn3QQeHxULzVKEhptJcZPOfXdHAKwrv6X8VXeA3F_H9ui8o9CxEM91hptkTiPuxzFeXOQBjgGkHyrPHrfyBmbVJPQzJSqlAGaaSaOKfYPjvb3GR4SxW-zVAlLIkQs5sBup51JEJdoC4Pii4l7TGj3DP9saxSwMVrRgR3bEuEMGOSgcULVzUUPaRLWnqIKgkx8v3_DOYFbTOlPOReSzGpGCYHQteNvepmRDgvLzh5vjp-VsC6TTbYG7yxRja_ouEdleYCMvNgyg_Md8a3rijS93SNpHFHkzfcnG2kMfUyrvt1mCdp2uqupw4J2R_WGbatbJkl6VC5UURg/file [following]\n",
            "--2023-05-03 07:07:44--  https://uc240e88762bed92d7934c3cf617.dl.dropboxusercontent.com/cd/0/inline2/B7Uf_AhpPwlptacGfp8vG0r7lEJCXz0pIQI8PZSs3-3Uhey4QVp99t-5COzBVp4sJJrqVSj4wINT4JLyGFrQBElShxERUbF1SRCn3QQeHxULzVKEhptJcZPOfXdHAKwrv6X8VXeA3F_H9ui8o9CxEM91hptkTiPuxzFeXOQBjgGkHyrPHrfyBmbVJPQzJSqlAGaaSaOKfYPjvb3GR4SxW-zVAlLIkQs5sBup51JEJdoC4Pii4l7TGj3DP9saxSwMVrRgR3bEuEMGOSgcULVzUUPaRLWnqIKgkx8v3_DOYFbTOlPOReSzGpGCYHQteNvepmRDgvLzh5vjp-VsC6TTbYG7yxRja_ouEdleYCMvNgyg_Md8a3rijS93SNpHFHkzfcnG2kMfUyrvt1mCdp2uqupw4J2R_WGbatbJkl6VC5UURg/file\n",
            "Reusing existing connection to uc240e88762bed92d7934c3cf617.dl.dropboxusercontent.com:443.\n",
            "HTTP request sent, awaiting response... 200 OK\n",
            "Length: 2434585 (2.3M) [application/zip]\n",
            "Saving to: ‘corpora.zip’\n",
            "\n",
            "corpora.zip         100%[===================>]   2.32M  --.-KB/s    in 0.07s   \n",
            "\n",
            "2023-05-03 07:07:44 (33.2 MB/s) - ‘corpora.zip’ saved [2434585/2434585]\n",
            "\n",
            "--2023-05-03 07:07:44--  http://corpora.zip/\n",
            "Resolving corpora.zip (corpora.zip)... failed: Name or service not known.\n",
            "wget: unable to resolve host address ‘corpora.zip’\n",
            "FINISHED --2023-05-03 07:07:44--\n",
            "Total wall clock time: 1.4s\n",
            "Downloaded: 1 files, 2.3M in 0.07s (33.2 MB/s)\n"
          ]
        }
      ]
    },
    {
      "cell_type": "code",
      "source": [
        "import zipfile\n",
        "import string\n",
        "import re\n",
        "import warnings\n",
        "from collections import Counter\n",
        "\n",
        "warnings.filterwarnings(\"ignore\")\n",
        "\n",
        "with zipfile.ZipFile('corpora.zip') as zf:\n",
        "    files = zf.namelist()\n",
        "    print(files)\n",
        "    with zf.open(files[1], 'r') as f:\n",
        "        corpus = f.read().decode('utf-8')\n",
        "\n",
        "corpus = corpus.lower()\n",
        "corpus = re.sub('[^а-я\\s]', '', corpus)\n",
        "\n",
        "freqs = Counter(corpus)\n",
        "print(freqs)\n"
      ],
      "metadata": {
        "colab": {
          "base_uri": "https://localhost:8080/"
        },
        "id": "ceQBD6NmCMPa",
        "outputId": "536be7e8-7ddb-4f7f-f3d3-da9565c77a1e"
      },
      "execution_count": 3,
      "outputs": [
        {
          "output_type": "stream",
          "name": "stdout",
          "text": [
            "['AnnaKarenina.txt', 'WarAndPeace.txt', 'WarAndPeaceEng.txt']\n",
            "Counter({' ': 110708, 'о': 61282, 'а': 45209, 'е': 42519, 'и': 35838, 'н': 35119, 'т': 30619, 'с': 28128, 'л': 27277, 'в': 24824, 'р': 24570, 'к': 19328, 'д': 16387, 'м': 15940, 'у': 15454, 'п': 13847, 'я': 12477, 'г': 11177, 'ь': 10498, 'ы': 10233, 'з': 9602, 'б': 9310, 'ч': 7349, '\\n': 6616, 'й': 6210, 'ж': 5460, 'ш': 5090, 'х': 4600, 'ю': 3495, 'ц': 2179, 'э': 1629, 'щ': 1514, 'ф': 1209, 'ъ': 283, '\\t': 3})\n"
          ]
        }
      ]
    },
    {
      "cell_type": "code",
      "source": [
        "import random\n",
        "import string\n",
        "\n",
        "def encode(text):\n",
        "    alphabet = list(\"абвгдеёжзийклмнопрстуфхцчшщъыьэюя \" )\n",
        "    random.shuffle(alphabet)\n",
        "    encoder = {alphabet[i]: alphabet[(i + 1) % len(alphabet)] for i in range(len(alphabet))}\n",
        "    encoded_text = ''.join([encoder[c] for c in text.lower() if c in alphabet])\n",
        "\n",
        "    return encoded_text, encoder\n",
        "\n",
        "def true_decode(encoded_text, encoder):\n",
        "    decoder = {encoder[c]: c for c in encoder}\n",
        "    decoded_text = ''.join([decoder[c] for c in encoded_text])\n",
        "\n",
        "    return decoded_text\n"
      ],
      "metadata": {
        "id": "SOkb3tAsBewm"
      },
      "execution_count": 4,
      "outputs": []
    },
    {
      "cell_type": "code",
      "source": [
        "import string\n",
        "\n",
        "alphabet = list(\"абвгдеёжзийклмнопрстуфхцчшщъыьэюя \" )\n",
        "\n",
        "# Определим частоты букв в зашифрованном тексте\n",
        "def compute_frequencies(text):\n",
        "    text = text.lower()\n",
        "    frequencies = {letter: 0 for letter in alphabet}\n",
        "\n",
        "    for letter in text:\n",
        "        if letter in frequencies:\n",
        "            frequencies[letter] += 1\n",
        "\n",
        "    total = sum(frequencies.values())\n",
        "    for letter in frequencies:\n",
        "        frequencies[letter] /= total\n",
        "\n",
        "    return frequencies\n",
        "\n",
        "# Декодируем текст на основе частотного метода\n",
        "def decode_with_frequencies(ciphertext, frequencies):\n",
        "    \n",
        "    ciphertext_frequencies = compute_frequencies(ciphertext)\n",
        "     mapping = {}\n",
        "    for letter in frequencies:\n",
        "        # Найдем букву с наиболее близкой частотой\n",
        "        closest_letter = min(ciphertext_frequencies.keys(),\n",
        "                             key=lambda x: abs(ciphertext_frequencies[x] - frequencies[letter]))\n",
        "\n",
        "        mapping[closest_letter] = letter\n",
        "        del ciphertext_frequencies[closest_letter]\n",
        "\n",
        "    plaintext = ''\n",
        "    for letter in ciphertext:\n",
        "        if letter in mapping:\n",
        "            plaintext += mapping[letter]\n",
        "        else:\n",
        "            plaintext += letter\n",
        "\n",
        "    return plaintext\n"
      ],
      "metadata": {
        "id": "rffhsFFmMXe4"
      },
      "execution_count": 15,
      "outputs": []
    },
    {
      "cell_type": "code",
      "source": [
        "sample_text = \"Ф.М. Достоевский находил в новом романе Толстого «огромную психологическую разработку души человеческой», «страшную глубину и силу» и, главное, «небывалый доселе у нас реализм художественного изображения». Время подтвердило эту высокую оценку. Из статей и книг на всех языках мира, посвященных «Анне Карениной», можно составить целую библиотеку. «Я без колебаний назвал „Анну Каренину“ величайшим социальным ром\"\n",
        "encoded_text, true_encoder = encode(sample_text)\n",
        "print(\"Закодированный текст:\")\n",
        "print(encoded_text)\n",
        "print()\n",
        "print(\"Расшифровка с помощью частотного метода:\")\n",
        "print(decode_with_frequencies(encoded_text, compute_frequencies(corpus)))\n",
        "print()\n",
        "print(\"Расшифровка реальная:\")\n",
        "decoded_text = true_decode(encoded_text, true_encoder)\n",
        "print(decoded_text) "
      ],
      "metadata": {
        "colab": {
          "base_uri": "https://localhost:8080/"
        },
        "id": "SK6ZfQubHhJe",
        "outputId": "ee23f5c7-956a-44d5-cbfc-ac0cb7439ba6"
      },
      "execution_count": 16,
      "outputs": [
        {
          "output_type": "stream",
          "name": "stdout",
          "text": [
            "Закодированный текст:\n",
            " ъюыкрукбчрсньюэхёкыншючюэкчкъюзкъхэбюукшрукткюктзкъэялюирнёкшктнабрсялюзхмзхцкусяюыяжнюабшкчбабрскьюрузхжэялютшяцнэяюнюрншяюнютшхчэкбюэбцгчхшгьюыкрбшбюяюэхрюзбхшнмъюёяыкобручбээкткюнмкцзхобэнеючзбъеюикыучбзыншкюдуяючгрксялюкфбэсяюнмюрухубьюнюсэнтюэхючрбёюемгсхёюънзхюикрчейбээгёюхээбюсхзбэнэкьюъкоэкюркрухчнувюфбшялюцнцшнкубсяюеюцбмюскшбцхэньюэхмчхшюхээяюсхзбэнэяючбшнахьжнъюркфнхшвэгъюзкъ\n",
            "\n",
            "Расшифровка с помощью частотного метода:\n",
            "щд уонтоавнкеы яизоуел в яовод родияа толнтопо опродясь хнезолопейанксь ригримоткс усже йаловайанкоы нтрижясь плсмеяс е нелс е пливяоа яамбвилбы уонала с яин раилегд зсуошантваяяопо егомришаяеч врадч хоутваруело фтс вбноксь оюаякс ег нтитаы е кяеп яи вназ чгбкиз дери хонвчцаяябз ияяа кираяеяоы дошяо нонтиветэ юалсь мемлеотакс ч маг коламияеы яигвил ияяс кираяеяс валейиыжед ноюеилэябд род\n",
            "\n",
            "Расшифровка реальная:\n",
            "фм достоевский находил в новом романе толстого огромную психологическую разработку души человеческой страшную глубину и силу и главное небывалый доселе у нас реализм художественного изображения время подтвердило эту высокую оценку из статей и книг на всех языках мира посвященных анне карениной можно составить целую библиотеку я без колебаний назвал анну каренину величайшим социальным ром\n"
          ]
        }
      ]
    },
    {
      "cell_type": "markdown",
      "source": [
        "Видим, что наш декодер хорошо определяет пробелы, буквы \"о\", \"т\", \"в\", \"к\", \"л\", \"р\", \"г\". Но догадаться, что означают декодированные слова пока невозможно."
      ],
      "metadata": {
        "id": "yT_HoSjJUyU5"
      }
    },
    {
      "cell_type": "markdown",
      "source": [
        "###2. Вряд ли в результате получилась такая уж хорошая расшифровка, разве что если вы брали в качестве тестовых данных целые рассказы. Но и Шерлок Холмс был не так уж прост: после буквы E, которая действительно выделяется частотой, дальше он анализировал уже конкретные слова и пытался угадать, какими они могли бы быть. Я не знаю, как запрограммировать такой интуитивный анализ, так что давайте просто сделаем следующий логический шаг:\n",
        " * подсчитайте частоты биграмм (т.е. пар последовательных букв) по корпусам;\n",
        " * проведите тестирование аналогично п.1, но при помощи биграмм.\n"
      ],
      "metadata": {
        "id": "fCVaBpLiIdnr"
      }
    },
    {
      "cell_type": "code",
      "source": [
        "import string\n",
        "import numpy as np\n",
        "\n",
        "alphabet = list(\"абвгдеёжзийклмнопрстуфхцчшщъыьэюя \" )\n",
        "\n",
        "def compute_bigram_frequencies(text):\n",
        "    text = text.lower()\n",
        "\n",
        "    frequencies = {}\n",
        "    for b1 in alphabet:\n",
        "      for b2 in alphabet:\n",
        "        if not frequencies.get( ''.join([b1, b2])):\n",
        "          frequencies[ ''.join([b1, b2])] = 0\n",
        "    \n",
        "    for i in range(0, len(text) - 1):\n",
        "        bigram = text[i:i+2]\n",
        "        if bigram in frequencies.keys():\n",
        "           frequencies[bigram] += 1\n",
        "        \n",
        "    total = sum(frequencies.values())\n",
        "    for bigram in frequencies:\n",
        "        frequencies[bigram] /= total\n",
        "\n",
        "    return frequencies\n",
        "\n",
        "def decode_with_bigram(ciphertext, frequencies):\n",
        "    ciphertext_frequencies = compute_bigram_frequencies(ciphertext)\n",
        "    \n",
        "    mapping = {}\n",
        "    for bigram in frequencies:\n",
        "        diff = [abs(ciphertext_frequencies[x] - frequencies[bigram]) for x in ciphertext_frequencies.keys()]\n",
        "        closest_bigram = list(ciphertext_frequencies.keys())[np.argmin(diff)]\n",
        "        \n",
        "        mapping[closest_bigram] = bigram\n",
        "        \n",
        "        del ciphertext_frequencies[closest_bigram]\n",
        "\n",
        "    plaintext = ''\n",
        "    for i in range(0, len(ciphertext) - 2, 2):\n",
        "        bigram = ciphertext[i:i+2]\n",
        "        if bigram in mapping:\n",
        "            plaintext += mapping[bigram]\n",
        "        else:\n",
        "            plaintext += ciphertext[bigram]\n",
        "\n",
        "    return plaintext\n"
      ],
      "metadata": {
        "id": "OVWAuQ2CHwxG"
      },
      "execution_count": 17,
      "outputs": []
    },
    {
      "cell_type": "code",
      "source": [
        "sample_text = \"Ф.М. Достоевский находил в новом романе Толстого «огромную психологическую разработку души человеческой», «страшную глубину и силу» и, главное, «небывалый доселе у нас реализм художественного изображения». Время подтвердило эту высокую оценку. Из статей и книг на всех языках мира, посвященных «Анне Карениной», можно составить целую библиотеку. «Я без колебаний назвал „Анну Каренину“ величайшим социальным ром\"\n",
        "print(\"Закодированный текст:\")\n",
        "print(encoded_text)\n",
        "print()\n",
        "print(\"Расшифровка с помощью частотного метода:\")\n",
        "print(decode_with_bigram(encoded_text, compute_bigram_frequencies(corpus)))\n",
        "print()\n",
        "print(\"Расшифровка реальная:\")\n",
        "decoded_text = true_decode(encoded_text, true_encoder)\n",
        "print(decoded_text)"
      ],
      "metadata": {
        "colab": {
          "base_uri": "https://localhost:8080/"
        },
        "id": "yF6pWxGjXsY-",
        "outputId": "802279c9-dc69-4dd6-e330-c0689bc03c6c"
      },
      "execution_count": 18,
      "outputs": [
        {
          "output_type": "stream",
          "name": "stdout",
          "text": [
            "Закодированный текст:\n",
            " ъюыкрукбчрсньюэхёкыншючюэкчкъюзкъхэбюукшрукткюктзкъэялюирнёкшктнабрсялюзхмзхцкусяюыяжнюабшкчбабрскьюрузхжэялютшяцнэяюнюрншяюнютшхчэкбюэбцгчхшгьюыкрбшбюяюэхрюзбхшнмъюёяыкобручбээкткюнмкцзхобэнеючзбъеюикыучбзыншкюдуяючгрксялюкфбэсяюнмюрухубьюнюсэнтюэхючрбёюемгсхёюънзхюикрчейбээгёюхээбюсхзбэнэкьюъкоэкюркрухчнувюфбшялюцнцшнкубсяюеюцбмюскшбцхэньюэхмчхшюхээяюсхзбэнэяючбшнахьжнъюркфнхшвэгъюзкъ\n",
            "\n",
            "Расшифровка с помощью частотного метода:\n",
            "ширая нобонела вроелко я вде к щ к хстноспноод еку к ь нейизй  ик во о нтоженыв  орачт уалов цалнеза юлямо ь номшал о  ун он э зсьсева вазди фдорая насто  чкиь  фка пегослие  ц ш и ткаеттоли ыгорыбыгоатту цееко тдро пем  о ндаа  о эиле нуви э ъ ылс ч ялоеневгрро рийтьатиядуа  ген хот ъска л за рве с юя прсвльчана   митолв аяо гообилогю ок ыи  чив ф л шо ниь  ы ь янак няан пм ми фвндн щ\n",
            "\n",
            "Расшифровка реальная:\n",
            "фм достоевский находил в новом романе толстого огромную психологическую разработку души человеческой страшную глубину и силу и главное небывалый доселе у нас реализм художественного изображения время подтвердило эту высокую оценку из статей и книг на всех языках мира посвященных анне карениной можно составить целую библиотеку я без колебаний назвал анну каренину величайшим социальным ром\n"
          ]
        }
      ]
    },
    {
      "cell_type": "markdown",
      "source": [
        "По-моему лучше не стало :("
      ],
      "metadata": {
        "id": "IoLT64pChdCq"
      }
    },
    {
      "cell_type": "markdown",
      "source": [
        "###3. MCMC-метод\n",
        "Условие задачи: Но и это ещё не всё: биграммы скорее всего тоже далеко не всегда работают. Основная часть задания — в том, как можно их улучшить:\n",
        "\n",
        " * предложите метод обучения перестановки символов в этом задании, основанный на MCMC-сэмплировании, но по-прежнему работающий на основе статистики биграмм;\n",
        "\n",
        " * реализуйте и протестируйте его, убедитесь, что результаты улучшились.\n",
        "\n",
        "\n",
        " **Шаги алгоритма**\n",
        "  \n",
        "  1. Инициализируем декодер случайной перестановкой букв.\n",
        "  \n",
        "  2. Для текущего декодера дешифруем сообщение. \n",
        "  \n",
        "  3. Для дешифрованного сообщения посчитаем статистику (energy) максимизирующую правдоподобие того, что распределение биграм в дешефрованном сообщении соответствуют распределению биграм в руссом языке:\n",
        "\n",
        " ###   $Energy = \\log \\prod_{bigram_i \\in B}{P_i(bigram_i)} =  \\sum_{bigram_i}\\log{P_i(bigram_i)}$,\n",
        "\n",
        " ### $ \\quad \\forall \\quad bigram_i \\in B, \\qquad B = \\{all \\ bigrams \\ in \\ decoded\\ text\\}$,\n",
        "  \n",
        "где $P_i(bigram_i)$ - частота биграмм в русском языке. \n",
        "\n",
        "  4. Случайным образом меняем два ключа в текущем декодере.\n",
        "  5. Рассчитываем new_energy (п.3) и сравниваем с текущим значением energy.\n",
        "  6. Если energy_delta > 0 или random.random() < math.exp(energy_delta / temperature), то обнавляем декодер.\n",
        "  7. Продолжать шаги 4 - 6, пока не достигним заданной точности (если определена) или заданного числа итераций.\n"
      ],
      "metadata": {
        "id": "ccG2XwGd2tjx"
      }
    },
    {
      "cell_type": "code",
      "source": [
        "import random\n",
        "import math\n",
        "\n",
        "def init_cipher():\n",
        "    alphabet = list(\"абвгдеёжзийклмнопрстуфхцчшщъыьэюя \" )\n",
        "    random.shuffle(alphabet)\n",
        "    encoder = {alphabet[i]: alphabet[(i + 1) % len(alphabet)] for i in range(len(alphabet))}\n",
        "\n",
        "    return encoder\n",
        "\n",
        "def decoder(new_cipher, cipher_text):\n",
        "   decoded_text = ''.join([new_cipher[ch] for ch in cipher_text])\n",
        "\n",
        "   return decoded_text\n",
        "   \n",
        " \n",
        "\n",
        "def bigram_freq(text):\n",
        "    text = text.lower()\n",
        "    frequencies = {}\n",
        "    \n",
        "    for b1 in alphabet:\n",
        "      for b2 in alphabet:\n",
        "        if not frequencies.get( ''.join([b1, b2])):\n",
        "          frequencies[ ''.join([b1, b2])] = 0\n",
        "    \n",
        "    for i in range(0, len(text) - 1):\n",
        "        bigram = text[i:i+2]\n",
        "        if bigram in frequencies.keys():\n",
        "           frequencies[bigram] += 1\n",
        "        \n",
        "    total = sum(frequencies.values())\n",
        "    for bigram in frequencies:\n",
        "        if frequencies[bigram] == 0:\n",
        "           frequencies[bigram] = 1e-8\n",
        "        frequencies[bigram] = frequencies[bigram] / total\n",
        "\n",
        "    return frequencies\n",
        "\n",
        "\n",
        "# функция для расчета вероятности на основе статистики биграмм\n",
        "def get_prob(bigram, freq_dict, total_bigrams):\n",
        "    if bigram in freq_dict:\n",
        "        return freq_dict[bigram] / total_bigrams\n",
        "    else:\n",
        "        return 1 / (total_bigrams * 10)\n",
        "\n",
        "def energy(freq_dict, text):\n",
        "    energy = 0\n",
        "    for i in range(len(text) - 1):\n",
        "        bigram = text[i:i+2]\n",
        "        energy +=  math.log(get_prob(bigram, freq_dict, len(freq_dict)))\n",
        "    return energy\n",
        "    \n",
        "\n",
        "def encoder_acc(new_cipher, true_encoder):\n",
        "  acc = 0\n",
        "  for key in true_encoder:\n",
        "    if key == new_cipher[true_encoder[key]]:\n",
        "      acc += 1\n",
        "  return acc / len(true_encoder) \n",
        "\n",
        "\n",
        "\n",
        "# функция для расшифровки текста с использованием метода Метрополиса-Гастингса\n",
        "def decrypt(cipher_text, key, freq_dict, total_bigrams, iterations=1000, temperature=1.0):\n",
        "    decrypted_text = decoder(key, cipher_text)\n",
        "    current_energy = energy(freq_dict, decrypted_text)\n",
        "    \n",
        "    # инициализируем лучший ключ и его энергию\n",
        "    best_key = key\n",
        "    best_energy = current_energy\n",
        "    print(best_energy, decrypted_text)\n",
        "    \n",
        "    for i in range(iterations):\n",
        "        # создаем новый ключ путем случайной перестановки букв в текущем ключе\n",
        "        new_key = key.copy()\n",
        "        key1, key2 = random.sample(new_key.keys(), 2)\n",
        "        new_key[key1], new_key[key2] = new_key[key2], new_key[key1]\n",
        "        \n",
        "        new_decrypted_text = decoder(new_key, cipher_text)\n",
        "        new_energy = energy(freq_dict, new_decrypted_text)\n",
        "    \n",
        "        # сравниваем новую и текущую энергии\n",
        "        energy_delta = new_energy - current_energy\n",
        "        \n",
        "        # если новая энергия лучше, то принимаем новый ключ\n",
        "        if energy_delta > 0 or random.random() < math.exp(energy_delta / temperature):\n",
        "            key = new_key\n",
        "            current_energy = new_energy\n",
        "        \n",
        "        # если новая энергия лучше, чем лучшая до сих пор, то сохраняем новый ключ как лучший\n",
        "        if current_energy > best_energy:\n",
        "            best_key = key\n",
        "            best_energy = current_energy\n",
        "        \n",
        "        if i % 50_000 == 0:\n",
        "          print(f\"Iteration: {i}, best energy: {best_energy}, accuracy: {encoder_acc(best_key, true_encoder)}\")\n",
        "          print(f\"Decoded text: {decoder(best_key, cipher_text)}\")\n",
        "          print()\n",
        "       \n",
        "        if encoder_acc(best_key, true_encoder) > 0.75:\n",
        "            break\n",
        "            \n",
        "    return best_key\n",
        "\n",
        "\n",
        "freq_dict = bigram_freq(corpus)\n",
        "total_bigrams = len(freq_dict)\n",
        "cipher = init_cipher()\n",
        "best_key = decrypt(encoded_text, cipher, freq_dict, total_bigrams, iterations=1_000_000, temperature=10.0)"
      ],
      "metadata": {
        "id": "SSSr61yvtim8",
        "colab": {
          "base_uri": "https://localhost:8080/"
        },
        "outputId": "9cccc3dd-192b-4aeb-96af-fe17ee4989d7"
      },
      "execution_count": 52,
      "outputs": [
        {
          "output_type": "stream",
          "name": "stdout",
          "text": [
            "-8344.25454090952 ёщоизагзядачхсожтшзихлодожздзщопзщтжяогзлагзфзозфпзщжыйоъахшзлзфхьяачыйоптюптузгчыоиы хоьялздяьяачзсоагпт жыйофлыухжыохоахлыохофлтджзяожяувдтлвсоизаяляоыожтаопятлхющошыизбяагдяжжзфзохюзуптбяжхмодпящмоъзигдяпихлзокгыодвазчыйозряжчыохюоагтгясохочжхфожтодаяшомювчтшощхптоъзадмеяжжвшотжжяочтпяжхжзсощзбжзоазагтдхгнорялыйоухулхзгячыомоуяюочзляутжхсожтюдтлотжжыочтпяжхжыодялхьтс хщоазрхтлнжвщопзщ\n",
            "Iteration: 0, best energy: -8288.383494414462, accuracy: 0.029411764705882353\n",
            "Decoded text: ёщоизегзядечхсожтшзихлодожздзщопзщтжяогзлегзфзозфпзщжыйоъехшзлзфхьяечыйоптюптузгчыоиы хоьялздяьяечзсоегпт жыйофлыухжыохоехлыохофлтджзяожяувдтлвсоизеяляоыожтеопятлхющошыизбяегдяжжзфзохюзуптбяжхмодпящмоъзигдяпихлзокгыодвезчыйозряжчыохюоегтгясохочжхфожтодеяшомювчтшощхптоъзедмаяжжвшотжжяочтпяжхжзсощзбжзоезегтдхгнорялыйоухулхзгячыомоуяюочзляутжхсожтюдтлотжжыочтпяжхжыодялхьтс хщоезрхтлнжвщопзщ\n",
            "\n",
            "Iteration: 50000, best energy: -5023.538638395163, accuracy: 0.7058823529411765\n",
            "Decoded text: ъв постоемский нахопил м номов роване толстого огровную бсихологицескую радразотку пуши целомецеской страшную глузину и силу и гламное незымалый поселе у нас реалидв хупожестменного идозражения мревя боптмерпило эту мысокую оченку ид статей и книг на мсех ядыках вира босмященных анне карениной вожно состамить челую зизлиотеку я зед колезаний надмал анну каренину мелицайшив сочиальныв ров\n",
            "\n",
            "Iteration: 100000, best energy: -5023.538638395163, accuracy: 0.7058823529411765\n",
            "Decoded text: ъв постоемский нахопил м номов роване толстого огровную бсихологицескую радразотку пуши целомецеской страшную глузину и силу и гламное незымалый поселе у нас реалидв хупожестменного идозражения мревя боптмерпило эту мысокую оченку ид статей и книг на мсех ядыках вира босмященных анне карениной вожно состамить челую зизлиотеку я зед колезаний надмал анну каренину мелицайшив сочиальныв ров\n",
            "\n",
            "Iteration: 150000, best energy: -4990.256901734563, accuracy: 0.7352941176470589\n",
            "Decoded text: жм постоевский нахопил в новом романе толстобо обромную гсихолобищескую разрадотку пуши щеловещеской страшную блудину и силу и блавное недывалый поселе у нас реализм хупочественнобо изодрачения время гоптверпило эту высокую офенку из статей и книб на всех языках мира госвяценных анне карениной мочно составить фелую дидлиотеку я дез коледаний назвал анну каренину велищайшим софиальным ром\n",
            "\n",
            "Iteration: 200000, best energy: -4990.256901734563, accuracy: 0.7352941176470589\n",
            "Decoded text: жм постоевский нахопил в новом романе толстобо обромную гсихолобищескую разрадотку пуши щеловещеской страшную блудину и силу и блавное недывалый поселе у нас реализм хупочественнобо изодрачения время гоптверпило эту высокую офенку из статей и книб на всех языках мира госвяценных анне карениной мочно составить фелую дидлиотеку я дез коледаний назвал анну каренину велищайшим софиальным ром\n",
            "\n",
            "Iteration: 250000, best energy: -4990.256901734563, accuracy: 0.7352941176470589\n",
            "Decoded text: жм постоевский нахопил в новом романе толстобо обромную гсихолобищескую разрадотку пуши щеловещеской страшную блудину и силу и блавное недывалый поселе у нас реализм хупочественнобо изодрачения время гоптверпило эту высокую офенку из статей и книб на всех языках мира госвяценных анне карениной мочно составить фелую дидлиотеку я дез коледаний назвал анну каренину велищайшим софиальным ром\n",
            "\n",
            "Iteration: 300000, best energy: -4990.256901734563, accuracy: 0.7352941176470589\n",
            "Decoded text: жм постоевский нахопил в новом романе толстобо обромную гсихолобищескую разрадотку пуши щеловещеской страшную блудину и силу и блавное недывалый поселе у нас реализм хупочественнобо изодрачения время гоптверпило эту высокую офенку из статей и книб на всех языках мира госвяценных анне карениной мочно составить фелую дидлиотеку я дез коледаний назвал анну каренину велищайшим софиальным ром\n",
            "\n",
            "Iteration: 350000, best energy: -4990.256901734563, accuracy: 0.7352941176470589\n",
            "Decoded text: жм постоевский нахопил в новом романе толстобо обромную гсихолобищескую разрадотку пуши щеловещеской страшную блудину и силу и блавное недывалый поселе у нас реализм хупочественнобо изодрачения время гоптверпило эту высокую офенку из статей и книб на всех языках мира госвяценных анне карениной мочно составить фелую дидлиотеку я дез коледаний назвал анну каренину велищайшим софиальным ром\n",
            "\n",
            "Iteration: 400000, best energy: -4990.256901734563, accuracy: 0.7352941176470589\n",
            "Decoded text: жм постоевский нахопил в новом романе толстобо обромную гсихолобищескую разрадотку пуши щеловещеской страшную блудину и силу и блавное недывалый поселе у нас реализм хупочественнобо изодрачения время гоптверпило эту высокую офенку из статей и книб на всех языках мира госвяценных анне карениной мочно составить фелую дидлиотеку я дез коледаний назвал анну каренину велищайшим софиальным ром\n",
            "\n",
            "Iteration: 450000, best energy: -4990.256901734563, accuracy: 0.7352941176470589\n",
            "Decoded text: жм постоевский нахопил в новом романе толстобо обромную гсихолобищескую разрадотку пуши щеловещеской страшную блудину и силу и блавное недывалый поселе у нас реализм хупочественнобо изодрачения время гоптверпило эту высокую офенку из статей и книб на всех языках мира госвяценных анне карениной мочно составить фелую дидлиотеку я дез коледаний назвал анну каренину велищайшим софиальным ром\n",
            "\n",
            "Iteration: 500000, best energy: -4990.256901734563, accuracy: 0.7352941176470589\n",
            "Decoded text: жм постоевский нахопил в новом романе толстобо обромную гсихолобищескую разрадотку пуши щеловещеской страшную блудину и силу и блавное недывалый поселе у нас реализм хупочественнобо изодрачения время гоптверпило эту высокую офенку из статей и книб на всех языках мира госвяценных анне карениной мочно составить фелую дидлиотеку я дез коледаний назвал анну каренину велищайшим софиальным ром\n",
            "\n",
            "Iteration: 550000, best energy: -4990.256901734563, accuracy: 0.7352941176470589\n",
            "Decoded text: жм постоевский нахопил в новом романе толстобо обромную гсихолобищескую разрадотку пуши щеловещеской страшную блудину и силу и блавное недывалый поселе у нас реализм хупочественнобо изодрачения время гоптверпило эту высокую офенку из статей и книб на всех языках мира госвяценных анне карениной мочно составить фелую дидлиотеку я дез коледаний назвал анну каренину велищайшим софиальным ром\n",
            "\n",
            "Iteration: 600000, best energy: -4990.256901734563, accuracy: 0.7352941176470589\n",
            "Decoded text: жм постоевский нахопил в новом романе толстобо обромную гсихолобищескую разрадотку пуши щеловещеской страшную блудину и силу и блавное недывалый поселе у нас реализм хупочественнобо изодрачения время гоптверпило эту высокую офенку из статей и книб на всех языках мира госвяценных анне карениной мочно составить фелую дидлиотеку я дез коледаний назвал анну каренину велищайшим софиальным ром\n",
            "\n",
            "Iteration: 650000, best energy: -4990.256901734563, accuracy: 0.7352941176470589\n",
            "Decoded text: жм постоевский нахопил в новом романе толстобо обромную гсихолобищескую разрадотку пуши щеловещеской страшную блудину и силу и блавное недывалый поселе у нас реализм хупочественнобо изодрачения время гоптверпило эту высокую офенку из статей и книб на всех языках мира госвяценных анне карениной мочно составить фелую дидлиотеку я дез коледаний назвал анну каренину велищайшим софиальным ром\n",
            "\n",
            "Iteration: 700000, best energy: -4990.256901734563, accuracy: 0.7352941176470589\n",
            "Decoded text: жм постоевский нахопил в новом романе толстобо обромную гсихолобищескую разрадотку пуши щеловещеской страшную блудину и силу и блавное недывалый поселе у нас реализм хупочественнобо изодрачения время гоптверпило эту высокую офенку из статей и книб на всех языках мира госвяценных анне карениной мочно составить фелую дидлиотеку я дез коледаний назвал анну каренину велищайшим софиальным ром\n",
            "\n",
            "Iteration: 750000, best energy: -4990.256901734563, accuracy: 0.7352941176470589\n",
            "Decoded text: жм постоевский нахопил в новом романе толстобо обромную гсихолобищескую разрадотку пуши щеловещеской страшную блудину и силу и блавное недывалый поселе у нас реализм хупочественнобо изодрачения время гоптверпило эту высокую офенку из статей и книб на всех языках мира госвяценных анне карениной мочно составить фелую дидлиотеку я дез коледаний назвал анну каренину велищайшим софиальным ром\n",
            "\n",
            "Iteration: 800000, best energy: -4990.256901734563, accuracy: 0.7352941176470589\n",
            "Decoded text: жм постоевский нахопил в новом романе толстобо обромную гсихолобищескую разрадотку пуши щеловещеской страшную блудину и силу и блавное недывалый поселе у нас реализм хупочественнобо изодрачения время гоптверпило эту высокую офенку из статей и книб на всех языках мира госвяценных анне карениной мочно составить фелую дидлиотеку я дез коледаний назвал анну каренину велищайшим софиальным ром\n",
            "\n",
            "Iteration: 850000, best energy: -4990.256901734563, accuracy: 0.7352941176470589\n",
            "Decoded text: жм постоевский нахопил в новом романе толстобо обромную гсихолобищескую разрадотку пуши щеловещеской страшную блудину и силу и блавное недывалый поселе у нас реализм хупочественнобо изодрачения время гоптверпило эту высокую офенку из статей и книб на всех языках мира госвяценных анне карениной мочно составить фелую дидлиотеку я дез коледаний назвал анну каренину велищайшим софиальным ром\n",
            "\n",
            "Iteration: 900000, best energy: -4990.256901734563, accuracy: 0.7352941176470589\n",
            "Decoded text: жм постоевский нахопил в новом романе толстобо обромную гсихолобищескую разрадотку пуши щеловещеской страшную блудину и силу и блавное недывалый поселе у нас реализм хупочественнобо изодрачения время гоптверпило эту высокую офенку из статей и книб на всех языках мира госвяценных анне карениной мочно составить фелую дидлиотеку я дез коледаний назвал анну каренину велищайшим софиальным ром\n",
            "\n",
            "Iteration: 950000, best energy: -4990.256901734563, accuracy: 0.7352941176470589\n",
            "Decoded text: жм постоевский нахопил в новом романе толстобо обромную гсихолобищескую разрадотку пуши щеловещеской страшную блудину и силу и блавное недывалый поселе у нас реализм хупочественнобо изодрачения время гоптверпило эту высокую офенку из статей и книб на всех языках мира госвяценных анне карениной мочно составить фелую дидлиотеку я дез коледаний назвал анну каренину велищайшим софиальным ром\n",
            "\n"
          ]
        }
      ]
    },
    {
      "cell_type": "markdown",
      "source": [
        "###Видим, что шифр еще не до конца взломан, но текст уже отлично читаем! Следует заметить, что качество и скорость обучения сильно зависят от инициализации начального декодера. Здесь accuracy рассчитывается как среднее число верно определенных в истинном энкодере букв."
      ],
      "metadata": {
        "id": "7ZIlE6YTjgpq"
      }
    },
    {
      "cell_type": "markdown",
      "source": [
        "## 4.Расшифруйте сообщение:\n",
        "←⇠⇒↟↹↷⇊↹↷↟↤↟↨←↹↝⇛⇯↳⇴⇒⇈↝⇊↾↹↟⇒↟↹⇷⇛⇞↨↟↹↝⇛⇯↳⇴⇒⇈↝⇊↾↹↨←⇌⇠↨↹⇙↹⇸↨⇛↙⇛↹⇠⇛⇛↲⇆←↝↟↞↹⇌⇛↨⇛⇯⇊↾↹⇒←↙⇌⇛↹⇷⇯⇛⇞↟↨⇴↨⇈↹⇠⇌⇛⇯←←↹↷⇠←↙⇛↹↷⇊↹↷⇠←↹⇠↤←⇒⇴⇒↟↹⇷⇯⇴↷↟⇒⇈↝⇛↹↟↹⇷⇛⇒⇙⇞↟↨←↹↳⇴⇌⇠↟↳⇴⇒⇈↝⇊↾↹↲⇴⇒⇒↹⇰⇴↹⇷⇛⇠⇒←↤↝←←↹⇞←↨↷←⇯↨⇛←↹⇰⇴↤⇴↝↟←↹⇌⇙⇯⇠⇴↹↘⇛↨↞↹⇌⇛↝←⇞↝⇛↹↞↹↝↟⇞←↙⇛↹↝←↹⇛↲←⇆⇴⇏\n",
        "\n",
        "Или это (они одинаковые, второй вариант просто на случай проблем с юникодом):\n",
        "\n",
        "დჳჵჂႨშႼႨშჂხჂჲდႨსႹႭჾႣჵისႼჰႨჂჵჂႨႲႹႧჲჂႨსႹႭჾႣჵისႼჰႨჲდႩჳჲႨჇႨႠჲႹქႹႨჳႹႹჱჶდსჂႽႨႩႹჲႹႭႼჰႨჵდქႩႹႨႲႭႹႧჂჲႣჲიႨჳႩႹႭდდႨშჳდქႹႨშႼႨშჳდႨჳხდჵႣჵჂႨႲႭႣშჂჵისႹႨჂႨႲႹჵჇႧჂჲდႨჾႣႩჳჂჾႣჵისႼჰႨჱႣჵჵႨეႣႨႲႹჳჵდხსდდႨႧდჲშდႭჲႹდႨეႣხႣსჂდႨႩჇႭჳႣႨႾႹჲႽႨႩႹსდႧსႹႨႽႨსჂႧდქႹႨსდႨႹჱდჶႣნ\n"
      ],
      "metadata": {
        "id": "xkHQW93B2i9I"
      }
    },
    {
      "cell_type": "code",
      "source": [
        "code =\"←⇠⇒↟↹↷⇊↹↷↟↤↟↨←↹↝⇛⇯↳⇴⇒⇈↝⇊↾↹↟⇒↟↹⇷⇛⇞↨↟↹↝⇛⇯↳⇴⇒⇈↝⇊↾↹↨←⇌⇠↨↹⇙↹⇸↨⇛↙⇛↹⇠⇛⇛↲⇆←↝↟↞↹⇌⇛↨⇛⇯⇊↾↹⇒←↙⇌⇛↹⇷⇯⇛⇞↟↨⇴↨⇈↹⇠⇌⇛⇯←←↹↷⇠←↙⇛↹↷⇊↹↷⇠←↹⇠↤←⇒⇴⇒↟↹⇷⇯⇴↷↟⇒⇈↝⇛↹↟↹⇷⇛⇒⇙⇞↟↨←↹↳⇴⇌⇠↟↳⇴⇒⇈↝⇊↾↹↲⇴⇒⇒↹⇰⇴↹⇷⇛⇠⇒←↤↝←←↹⇞←↨↷←⇯↨⇛←↹⇰⇴↤⇴↝↟←↹⇌⇙⇯⇠⇴↹↘⇛↨↞↹⇌⇛↝←⇞↝⇛↹↞↹↝↟⇞←↙⇛↹↝←↹⇛↲←⇆⇴⇏\"\n",
        "new_alphabet = ''.join(np.unique(list(code)))\n",
        "\n",
        "mytable  = str.maketrans(new_alphabet, ''.join(alphabet[:28]))\n",
        "rus_code = code.translate(mytable) \n",
        "\n",
        "print(rus_code)"
      ],
      "metadata": {
        "colab": {
          "base_uri": "https://localhost:8080/"
        },
        "id": "rjc2S4Xm6hjK",
        "outputId": "3ec03e82-d13e-420a-a03d-9be32f41866c"
      },
      "execution_count": 61,
      "outputs": [
        {
          "output_type": "stream",
          "name": "stdout",
          "text": [
            "ахсекйокйеёежакгуцишснголкесекщуфжекгуцишснголкжапхжкткъжувукхуузмагедкпужуцолксавпукщцуфежшжнкхпуцаакйхавукйокйхакхёасшсекщцшйеснгукекщустфежакишпхеишснголкзшсскчшкщухсаёгаакфажйацжуакчшёшгеакптцхшкбуждкпугафгукдкгефавукгакузамшр\n"
          ]
        }
      ]
    },
    {
      "cell_type": "code",
      "source": [
        "freq_dict = bigram_freq(corpus)\n",
        "total_bigrams = len(freq_dict)\n",
        "cipher = init_cipher()\n",
        "best_key = decrypt(rus_code, cipher, freq_dict, total_bigrams, iterations=1_000_000, temperature=1.0)"
      ],
      "metadata": {
        "colab": {
          "base_uri": "https://localhost:8080/"
        },
        "id": "oqfQkruRn4vC",
        "outputId": "bfe98c72-e1c5-4448-c850-eb48b0bbea8c"
      },
      "execution_count": 68,
      "outputs": [
        {
          "output_type": "stream",
          "name": "stdout",
          "text": [
            "-6007.746847946043 онп ёдэёд г тоёьжебщпйьэкё п ёлжст ёьжебщпйьэкётовнтёчёытжяжёнжжироь зёвжтжеэкёпоявжёлежс тщтйёнвжеооёднояжёдэёдноёнгопщп ёлещд пйьжё ёлжпчс тоёбщвн бщпйьэкёищппёхщёлжнпогьооёсотдоетжоёхщгщь оёвченщёажтзёвжьосьжёзёь сояжёьоёжиорщъ\n",
            "Iteration: 0, best energy: -5974.549254151341, accuracy: 0.029411764705882353\n",
            "Decoded text: онк ёдэёд г тоёьжебщкйьэпё к ёлжст ёьжебщкйьэпётовнтёчёытжяжёнжжироь зёвжтжеэпёкоявжёлежс тщтйёнвжеооёднояжёдэёдноёнгокщк ёлещд кйьжё ёлжкчс тоёбщвн бщкйьэпёищккёхщёлжнкогьооёсотдоетжоёхщгщь оёвченщёажтзёвжьосьжёзёь сояжёьоёжиорщъ\n",
            "\n",
            "Iteration: 50000, best energy: -2905.8844168089263, accuracy: 0.0\n",
            "Decoded text: ерто пы помоле навшитьный ото садло навшитьный лекрл у глаза раабщеноя калавый тезка свадолиль ркавее преза пы пре рметито свипотьна о сатудоле шикрошитьный битт чи сартемнее делпевлае чиминое куври жаля канедна я нодеза не абещиц\n",
            "\n",
            "Iteration: 100000, best energy: -2886.5481436289033, accuracy: 0.0\n",
            "Decoded text: ерли пы пижите носкальный или вомти носкальный тедрт у этого роочшения дотосый легдо всомитать рдосее прего пы пре ржелали всапильно и волумите кадрикальный чалл за ворлежнее метпестое зажание дусра ботя донемно я нимего не очешах\n",
            "\n",
            "Iteration: 150000, best energy: -2871.009204726036, accuracy: 0.0\n",
            "Decoded text: если вы вимите норзальный или подти норзальный текст у этого сообщения который легко продитать скорее всего вы все смелали правильно и полудите заксизальный балл ча послемнее детвертое чамание курса хотя конедно я нидего не обещаж\n",
            "\n",
            "Iteration: 200000, best energy: -2870.9933496548733, accuracy: 0.0\n",
            "Decoded text: если вы вимите норжальный или подти норжальный текст у этого соочшения который легко продитать скорее всего вы все смелали правильно и полудите жаксижальный чалл за послемнее детвертое замание курса ботя конедно я нидего не очешах\n",
            "\n",
            "Iteration: 250000, best energy: -2870.9933496548733, accuracy: 0.0\n",
            "Decoded text: если вы вимите норжальный или подти норжальный текст у этого соочшения который легко продитать скорее всего вы все смелали правильно и полудите жаксижальный чалл за послемнее детвертое замание курса ботя конедно я нидего не очешах\n",
            "\n",
            "Iteration: 300000, best energy: -2870.9933496548733, accuracy: 0.0\n",
            "Decoded text: если вы вимите норжальный или подти норжальный текст у этого соочшения который легко продитать скорее всего вы все смелали правильно и полудите жаксижальный чалл за послемнее детвертое замание курса ботя конедно я нидего не очешах\n",
            "\n",
            "Iteration: 350000, best energy: -2870.9933496548733, accuracy: 0.0\n",
            "Decoded text: если вы вимите норжальный или подти норжальный текст у этого соочшения который легко продитать скорее всего вы все смелали правильно и полудите жаксижальный чалл за послемнее детвертое замание курса ботя конедно я нидего не очешах\n",
            "\n",
            "Iteration: 400000, best energy: -2870.9933496548733, accuracy: 0.0\n",
            "Decoded text: если вы вимите норжальный или подти норжальный текст у этого соочшения который легко продитать скорее всего вы все смелали правильно и полудите жаксижальный чалл за послемнее детвертое замание курса ботя конедно я нидего не очешах\n",
            "\n",
            "Iteration: 450000, best energy: -2870.9933496548733, accuracy: 0.0\n",
            "Decoded text: если вы вимите норжальный или подти норжальный текст у этого соочшения который легко продитать скорее всего вы все смелали правильно и полудите жаксижальный чалл за послемнее детвертое замание курса ботя конедно я нидего не очешах\n",
            "\n",
            "Iteration: 500000, best energy: -2870.9933496548733, accuracy: 0.0\n",
            "Decoded text: если вы вимите норжальный или подти норжальный текст у этого соочшения который легко продитать скорее всего вы все смелали правильно и полудите жаксижальный чалл за послемнее детвертое замание курса ботя конедно я нидего не очешах\n",
            "\n",
            "Iteration: 550000, best energy: -2870.9933496548733, accuracy: 0.0\n",
            "Decoded text: если вы вимите норжальный или подти норжальный текст у этого соочшения который легко продитать скорее всего вы все смелали правильно и полудите жаксижальный чалл за послемнее детвертое замание курса ботя конедно я нидего не очешах\n",
            "\n",
            "Iteration: 600000, best energy: -2870.9933496548733, accuracy: 0.0\n",
            "Decoded text: если вы вимите норжальный или подти норжальный текст у этого соочшения который легко продитать скорее всего вы все смелали правильно и полудите жаксижальный чалл за послемнее детвертое замание курса ботя конедно я нидего не очешах\n",
            "\n",
            "Iteration: 650000, best energy: -2870.9933496548733, accuracy: 0.0\n",
            "Decoded text: если вы вимите норжальный или подти норжальный текст у этого соочшения который легко продитать скорее всего вы все смелали правильно и полудите жаксижальный чалл за послемнее детвертое замание курса ботя конедно я нидего не очешах\n",
            "\n",
            "Iteration: 700000, best energy: -2870.9933496548733, accuracy: 0.0\n",
            "Decoded text: если вы вимите норжальный или подти норжальный текст у этого соочшения который легко продитать скорее всего вы все смелали правильно и полудите жаксижальный чалл за послемнее детвертое замание курса ботя конедно я нидего не очешах\n",
            "\n",
            "Iteration: 750000, best energy: -2870.9933496548733, accuracy: 0.0\n",
            "Decoded text: если вы вимите норжальный или подти норжальный текст у этого соочшения который легко продитать скорее всего вы все смелали правильно и полудите жаксижальный чалл за послемнее детвертое замание курса ботя конедно я нидего не очешах\n",
            "\n",
            "Iteration: 800000, best energy: -2870.9933496548733, accuracy: 0.0\n",
            "Decoded text: если вы вимите норжальный или подти норжальный текст у этого соочшения который легко продитать скорее всего вы все смелали правильно и полудите жаксижальный чалл за послемнее детвертое замание курса ботя конедно я нидего не очешах\n",
            "\n",
            "Iteration: 850000, best energy: -2870.9933496548733, accuracy: 0.0\n",
            "Decoded text: если вы вимите норжальный или подти норжальный текст у этого соочшения который легко продитать скорее всего вы все смелали правильно и полудите жаксижальный чалл за послемнее детвертое замание курса ботя конедно я нидего не очешах\n",
            "\n",
            "Iteration: 900000, best energy: -2870.9933496548733, accuracy: 0.0\n",
            "Decoded text: если вы вимите норжальный или подти норжальный текст у этого соочшения который легко продитать скорее всего вы все смелали правильно и полудите жаксижальный чалл за послемнее детвертое замание курса ботя конедно я нидего не очешах\n",
            "\n",
            "Iteration: 950000, best energy: -2870.9933496548733, accuracy: 0.0\n",
            "Decoded text: если вы вимите норжальный или подти норжальный текст у этого соочшения который легко продитать скорее всего вы все смелали правильно и полудите жаксижальный чалл за послемнее детвертое замание курса ботя конедно я нидего не очешах\n",
            "\n"
          ]
        }
      ]
    },
    {
      "cell_type": "markdown",
      "source": [
        "##Замечание: здесь ассuracy ничего не значит, так как мы не знаем истиного энкодера.\n",
        "\n",
        "###Расшифрованное сообщение:\n",
        "### если вы вимите норжальный или подти норжальный текст у этого соочшения который легко продитать скорее всего вы все смелали правильно и полудите жаксижальный чалл за послемнее детвертое замание курса ботя конедно я нидего не очешах\n",
        "\n",
        "###Жду \"жаксижальный чалл\" Ж)"
      ],
      "metadata": {
        "id": "77pRKnRw8fCd"
      }
    },
    {
      "cell_type": "markdown",
      "source": [
        "### 5. Бонус: а что если от биграмм перейти к триграммам (тройкам букв) или даже больше? Улучшатся ли результаты? Когда улучшатся, а когда нет? Чтобы ответить на этот вопрос эмпирически, уже может понадобиться погенерировать много тестовых перестановок и последить за метриками, глазами может быть и не видно.\n"
      ],
      "metadata": {
        "id": "ibcIQ0Xs9GbY"
      }
    },
    {
      "cell_type": "code",
      "source": [
        "import random\n",
        "import math\n",
        "\n",
        "def init_cipher():\n",
        "    alphabet = list(\"абвгдеёжзийклмнопрстуфхцчшщъыьэюя \" )\n",
        "    random.shuffle(alphabet)\n",
        "    encoder = {alphabet[i]: alphabet[(i + 1) % len(alphabet)] for i in range(len(alphabet))}\n",
        "\n",
        "    return encoder\n",
        "\n",
        "def decoder(new_cipher, cipher_text):\n",
        "   decoded_text = ''.join([new_cipher[ch] for ch in cipher_text])\n",
        "   return decoded_text\n",
        "   \n",
        " \n",
        "\n",
        "def trigramm_freq(text):\n",
        "    text = text.lower()\n",
        "    frequencies = {}\n",
        "    \n",
        "    for b1 in alphabet:\n",
        "      for b2 in alphabet:\n",
        "        for b3 in alphabet:\n",
        "           if not frequencies.get( ''.join([b1, b2, b3])):\n",
        "              frequencies[ ''.join([b1, b2, b3])] = 0\n",
        "    \n",
        "    for i in range(0, len(text) - 2):\n",
        "        trigram = text[i:i+3]\n",
        "        if trigram in frequencies.keys():\n",
        "           frequencies[trigram] += 1\n",
        "   \n",
        "    all_trigrams = list(frequencies.keys())\n",
        "\n",
        "    for trigram in all_trigrams:\n",
        "        if frequencies[trigram] == 0:\n",
        "           del frequencies[trigram]\n",
        "    \n",
        "    total = len(frequencies)\n",
        "    for trigram in frequencies:\n",
        "        frequencies[trigram] = frequencies[trigram] / total\n",
        "        \n",
        "    return frequencies\n",
        "\n",
        "\n",
        "def get_prob(trigram, freq_dict, total_trigrams):\n",
        "    if trigram in freq_dict:\n",
        "        return freq_dict[trigram] / total_trigrams\n",
        "    else:\n",
        "        return 1e-10\n",
        "\n",
        "\n",
        "def energy(freq_dict, text):\n",
        "    energy = 0\n",
        "    for i in range(len(text) - 2):\n",
        "        trigram = text[i:i+3]\n",
        "        energy +=  math.log(get_prob(trigram, freq_dict, len(freq_dict)))\n",
        "    return energy\n",
        "    \n",
        "\n",
        "def encoder_acc(new_cipher, true_encoder):\n",
        "  acc = 0\n",
        "  for key in true_encoder:\n",
        "    if key == new_cipher[true_encoder[key]]:\n",
        "      acc += 1\n",
        "  return acc / len(true_encoder) \n",
        "\n",
        "\n",
        "\n",
        "def decrypt_3(cipher_text, key, freq_dict, total_trigrams, iterations=1000, threshold = 0.9, temperature=1.0):\n",
        "    decrypted_text = decoder(key, cipher_text)\n",
        "    current_energy = energy(freq_dict, decrypted_text)\n",
        "    \n",
        "    # инициализируем лучший ключ и его энергию\n",
        "    best_key = key\n",
        "    best_energy = current_energy\n",
        "    print(best_energy, decrypted_text)\n",
        "    \n",
        "    for i in range(iterations):\n",
        "        # создаем новый ключ путем случайной перестановки букв в текущем ключе\n",
        "        new_key = key.copy()\n",
        "        key1, key2 = random.sample(new_key.keys(), 2)\n",
        "        new_key[key1], new_key[key2] = new_key[key2], new_key[key1]\n",
        "        \n",
        "        # вычисляем новую энергию (оценку правдоподобия) текста при новом ключе\n",
        "        new_decrypted_text = decoder(new_key, cipher_text)\n",
        "        new_energy = energy(freq_dict, new_decrypted_text)\n",
        "    \n",
        "        # сравниваем новую и текущую энергии\n",
        "        energy_delta = new_energy - current_energy\n",
        "        \n",
        "        # если новая энергия лучше, то принимаем новый ключ\n",
        "        if energy_delta > 0 or random.random() < math.exp(energy_delta / temperature):\n",
        "            key = new_key\n",
        "            current_energy = new_energy\n",
        "        \n",
        "        # если новая энергия лучше, чем лучшая до сих пор, то сохраняем новый ключ как лучший\n",
        "        if current_energy > best_energy:\n",
        "            best_key = key\n",
        "            best_energy = current_energy\n",
        "        \n",
        "        if i % 50_000 == 0:\n",
        "          print(f\"Iteration: {i}, new energy: {best_energy}, accuracy: {encoder_acc(best_key, true_encoder)}\")\n",
        "          print(f\"Decoded text: {decoder(best_key, cipher_text)}\")\n",
        "          print()\n",
        "       \n",
        "        if encoder_acc(best_key, true_encoder) > threshold:\n",
        "            print(f\"Iteration: {i}, new energy: {best_energy}, accuracy: {encoder_acc(best_key, true_encoder)}\")\n",
        "            print(f\"Decoded text: {decoder(best_key, cipher_text)}\")\n",
        "            break\n",
        "            \n",
        "    return best_key\n",
        "\n"
      ],
      "metadata": {
        "id": "ZUdpYl216oWe"
      },
      "execution_count": 137,
      "outputs": []
    },
    {
      "cell_type": "markdown",
      "source": [
        "###Сначала декодируем текст про Достоевского"
      ],
      "metadata": {
        "id": "WIsuT_eO_cxi"
      }
    },
    {
      "cell_type": "code",
      "source": [
        "\n",
        "freq_dict = trigramm_freq(corpus)\n",
        "total_trigrams = len(freq_dict)\n",
        "cipher = init_cipher()\n",
        "best_key = decrypt_3(encoded_text, cipher, freq_dict, total_trigrams, iterations=500_000, threshold = 0.9, temperature=1.0)"
      ],
      "metadata": {
        "colab": {
          "base_uri": "https://localhost:8080/"
        },
        "id": "A_UFGIDC_b-_",
        "outputId": "04635734-8364-4919-d00a-2fc2e7e694ed"
      },
      "execution_count": 111,
      "outputs": [
        {
          "output_type": "stream",
          "name": "stdout",
          "text": [
            "-7981.597481181275 рш вмкямлъкыой щанмвоз ъ щмъмш ьмшащл ямзкямим миьмшщцп юконмзмиоглкыцп ьачьажмяыц вцбо глзмълглкымй кяьабщцп изцжощц о козц о изаъщмл щлжэъазэй вмклзл ц щак ьлазочш нцвмтлкяълщщмим очмжьатлщоу ъьлшу юмвяъльвозм еяц ъэкмыцп мёлщыц оч кяаялй о ыщои ща ъклн учэыан шоьа юмкъухлщщэн ащщл ыаьлщощмй шмтщм кмкяаъояд ёлзцп жожзомялыц у жлч ымзлжащой щачъаз ащщц ыаьлщощц ълзогайбош кмёоаздщэш ьмш\n",
            "Iteration: 0, new energy: -7940.778245861359, accuracy: 0.08823529411764706\n",
            "Decoded text: рш вмкямлфкыой щанмвоз ф щмфмш ьмшащл ямзкямим миьмшщцп юконмзмиоглкыцп ьачьажмяыц вцбо глзмфлглкымй кяьабщцп изцжощц о козц о изафщмл щлжэфазэй вмклзл ц щак ьлазочш нцвмтлкяфлщщмим очмжьатлщоу фьлшу юмвяфльвозм еяц фэкмыцп мёлщыц оч кяаялй о ыщои ща фклн учэыан шоьа юмкфухлщщэн ащщл ыаьлщощмй шмтщм кмкяафояд ёлзцп жожзомялыц у жлч ымзлжащой щачфаз ащщц ыаьлщощц флзогайбош кмёоаздщэш ьмш\n",
            "\n",
            "Iteration: 8121, new energy: -4863.71759359545, accuracy: 0.9117647058823529\n",
            "Decoded text: ъм достоевский находил в новом романе толстого огромную психологическую разработку души человеческой страшную глубину и силу и главное небывалый доселе у нас реализм художественного изображения время подтвердило эту высокую офенку из статей и книг на всех языках мира посвященных анне карениной можно составить фелую библиотеку я без колебаний назвал анну каренину величайшим софиальным ром\n"
          ]
        }
      ]
    },
    {
      "cell_type": "markdown",
      "source": [
        "###Аналогично методу с биграммами, скорость сходимости и точность декодера зависит от начального приближения. Иногда метод не сходится к точности 0,9 даже за 500_000 итераций.\n",
        "\n",
        "### Попробуем взять наш best_key декодер и дообучить его"
      ],
      "metadata": {
        "id": "_psIZE4iSMGr"
      }
    },
    {
      "cell_type": "code",
      "source": [
        "best_key_next = decrypt_3(encoded_text, best_key, freq_dict, total_trigrams, iterations=500_000, threshold = 0.95, temperature=1.0)"
      ],
      "metadata": {
        "colab": {
          "base_uri": "https://localhost:8080/"
        },
        "id": "xFh05FWi_oOc",
        "outputId": "b712a145-8f48-4275-e41b-b719ca10df99"
      },
      "execution_count": 120,
      "outputs": [
        {
          "output_type": "stream",
          "name": "stdout",
          "text": [
            "-4863.71759359545 ъм достоевский находил в новом романе толстого огромную психологическую разработку души человеческой страшную глубину и силу и главное небывалый доселе у нас реализм художественного изображения время подтвердило эту высокую офенку из статей и книг на всех языках мира посвященных анне карениной можно составить фелую библиотеку я без колебаний назвал анну каренину величайшим софиальным ром\n",
            "Iteration: 0, new energy: -4863.71759359545, accuracy: 0.9117647058823529\n",
            "Decoded text: ъм достоевский находил в новом романе толстого огромную психологическую разработку души человеческой страшную глубину и силу и главное небывалый доселе у нас реализм художественного изображения время подтвердило эту высокую офенку из статей и книг на всех языках мира посвященных анне карениной можно составить фелую библиотеку я без колебаний назвал анну каренину величайшим софиальным ром\n",
            "\n",
            "Iteration: 50000, new energy: -4863.71759359545, accuracy: 0.9117647058823529\n",
            "Decoded text: ъм достоевский находил в новом романе толстого огромную психологическую разработку души человеческой страшную глубину и силу и главное небывалый доселе у нас реализм художественного изображения время подтвердило эту высокую офенку из статей и книг на всех языках мира посвященных анне карениной можно составить фелую библиотеку я без колебаний назвал анну каренину величайшим софиальным ром\n",
            "\n",
            "Iteration: 100000, new energy: -4863.71759359545, accuracy: 0.9117647058823529\n",
            "Decoded text: ъм достоевский находил в новом романе толстого огромную психологическую разработку души человеческой страшную глубину и силу и главное небывалый доселе у нас реализм художественного изображения время подтвердило эту высокую офенку из статей и книг на всех языках мира посвященных анне карениной можно составить фелую библиотеку я без колебаний назвал анну каренину величайшим софиальным ром\n",
            "\n",
            "Iteration: 150000, new energy: -4863.71759359545, accuracy: 0.9117647058823529\n",
            "Decoded text: ъм достоевский находил в новом романе толстого огромную психологическую разработку души человеческой страшную глубину и силу и главное небывалый доселе у нас реализм художественного изображения время подтвердило эту высокую офенку из статей и книг на всех языках мира посвященных анне карениной можно составить фелую библиотеку я без колебаний назвал анну каренину величайшим софиальным ром\n",
            "\n",
            "Iteration: 200000, new energy: -4863.71759359545, accuracy: 0.9117647058823529\n",
            "Decoded text: ъм достоевский находил в новом романе толстого огромную психологическую разработку души человеческой страшную глубину и силу и главное небывалый доселе у нас реализм художественного изображения время подтвердило эту высокую офенку из статей и книг на всех языках мира посвященных анне карениной можно составить фелую библиотеку я без колебаний назвал анну каренину величайшим софиальным ром\n",
            "\n",
            "Iteration: 250000, new energy: -4863.71759359545, accuracy: 0.9117647058823529\n",
            "Decoded text: ъм достоевский находил в новом романе толстого огромную психологическую разработку души человеческой страшную глубину и силу и главное небывалый доселе у нас реализм художественного изображения время подтвердило эту высокую офенку из статей и книг на всех языках мира посвященных анне карениной можно составить фелую библиотеку я без колебаний назвал анну каренину величайшим софиальным ром\n",
            "\n",
            "Iteration: 300000, new energy: -4863.71759359545, accuracy: 0.9117647058823529\n",
            "Decoded text: ъм достоевский находил в новом романе толстого огромную психологическую разработку души человеческой страшную глубину и силу и главное небывалый доселе у нас реализм художественного изображения время подтвердило эту высокую офенку из статей и книг на всех языках мира посвященных анне карениной можно составить фелую библиотеку я без колебаний назвал анну каренину величайшим софиальным ром\n",
            "\n",
            "Iteration: 350000, new energy: -4863.71759359545, accuracy: 0.9117647058823529\n",
            "Decoded text: ъм достоевский находил в новом романе толстого огромную психологическую разработку души человеческой страшную глубину и силу и главное небывалый доселе у нас реализм художественного изображения время подтвердило эту высокую офенку из статей и книг на всех языках мира посвященных анне карениной можно составить фелую библиотеку я без колебаний назвал анну каренину величайшим софиальным ром\n",
            "\n",
            "Iteration: 400000, new energy: -4863.71759359545, accuracy: 0.9117647058823529\n",
            "Decoded text: ъм достоевский находил в новом романе толстого огромную психологическую разработку души человеческой страшную глубину и силу и главное небывалый доселе у нас реализм художественного изображения время подтвердило эту высокую офенку из статей и книг на всех языках мира посвященных анне карениной можно составить фелую библиотеку я без колебаний назвал анну каренину величайшим софиальным ром\n",
            "\n",
            "Iteration: 450000, new energy: -4863.71759359545, accuracy: 0.9117647058823529\n",
            "Decoded text: ъм достоевский находил в новом романе толстого огромную психологическую разработку души человеческой страшную глубину и силу и главное небывалый доселе у нас реализм художественного изображения время подтвердило эту высокую офенку из статей и книг на всех языках мира посвященных анне карениной можно составить фелую библиотеку я без колебаний назвал анну каренину величайшим софиальным ром\n",
            "\n"
          ]
        }
      ]
    },
    {
      "cell_type": "markdown",
      "source": [
        "###Я попробовала несколько прогонов, улучшить не получилось. Так как декодер и так достаточно хороший (неверно определены всего 3 буквы \"ф\", \"ц\" и \"ъ\"), то алгоритму очень сложно найти такую случайную перестановку букв, чтобы энергия улучшилась.\n",
        "\n",
        "###Ряд экспериментов показал, что выше точности 0,91176 данная реализация алгоритма не достигает. \n",
        "\n",
        "##Но в целом использование триграммов позволяет добиться большой точности и быстроты дешифрования"
      ],
      "metadata": {
        "id": "F1WyyVjVUlMv"
      }
    },
    {
      "cell_type": "markdown",
      "source": [
        "###Декодируем теперь зашифрованный текст из задания 4"
      ],
      "metadata": {
        "id": "RvkVhcq-WJjo"
      }
    },
    {
      "cell_type": "code",
      "source": [
        "code =\"←⇠⇒↟↹↷⇊↹↷↟↤↟↨←↹↝⇛⇯↳⇴⇒⇈↝⇊↾↹↟⇒↟↹⇷⇛⇞↨↟↹↝⇛⇯↳⇴⇒⇈↝⇊↾↹↨←⇌⇠↨↹⇙↹⇸↨⇛↙⇛↹⇠⇛⇛↲⇆←↝↟↞↹⇌⇛↨⇛⇯⇊↾↹⇒←↙⇌⇛↹⇷⇯⇛⇞↟↨⇴↨⇈↹⇠⇌⇛⇯←←↹↷⇠←↙⇛↹↷⇊↹↷⇠←↹⇠↤←⇒⇴⇒↟↹⇷⇯⇴↷↟⇒⇈↝⇛↹↟↹⇷⇛⇒⇙⇞↟↨←↹↳⇴⇌⇠↟↳⇴⇒⇈↝⇊↾↹↲⇴⇒⇒↹⇰⇴↹⇷⇛⇠⇒←↤↝←←↹⇞←↨↷←⇯↨⇛←↹⇰⇴↤⇴↝↟←↹⇌⇙⇯⇠⇴↹↘⇛↨↞↹⇌⇛↝←⇞↝⇛↹↞↹↝↟⇞←↙⇛↹↝←↹⇛↲←⇆⇴⇏\"\n",
        "new_alphabet = ''.join(np.unique(list(code)))\n",
        "\n",
        "mytable  = str.maketrans(new_alphabet, ''.join(alphabet[:28]))\n",
        "rus_code = code.translate(mytable) \n",
        "\n",
        "print(rus_code)"
      ],
      "metadata": {
        "colab": {
          "base_uri": "https://localhost:8080/"
        },
        "id": "5vdzqeAcXLPu",
        "outputId": "1e5ec75e-b476-46b8-8f88-cc57d34912fa"
      },
      "execution_count": 124,
      "outputs": [
        {
          "output_type": "stream",
          "name": "stdout",
          "text": [
            "ахсекйокйеёежакгуцишснголкесекщуфжекгуцишснголкжапхжкткъжувукхуузмагедкпужуцолксавпукщцуфежшжнкхпуцаакйхавукйокйхакхёасшсекщцшйеснгукекщустфежакишпхеишснголкзшсскчшкщухсаёгаакфажйацжуакчшёшгеакптцхшкбуждкпугафгукдкгефавукгакузамшр\n"
          ]
        }
      ]
    },
    {
      "cell_type": "code",
      "source": [
        "cipher = init_cipher()\n",
        "best_key = decrypt_3(rus_code, cipher, freq_dict, total_trigrams, iterations=500_000)"
      ],
      "metadata": {
        "colab": {
          "base_uri": "https://localhost:8080/"
        },
        "id": "k62KgQiwVn8J",
        "outputId": "db5d34bb-7d14-40f9-d52c-38ccc8ae2970"
      },
      "execution_count": 141,
      "outputs": [
        {
          "output_type": "stream",
          "name": "stdout",
          "text": [
            "-4124.228975761843 вчфгяэсяэгдгцвяныщёкфшнсбягфгяюырцгяныщёкфшнсбяцвжчцяаямцыуыячыыоивнгьяжыцыщсбяфвужыяющыргцкцшячжыщввяэчвуыяэсяэчвячдвфкфгяющкэгфшныягяюыфаргцвяёкжчгёкфшнсбяокффяпкяюычфвднввярвцэвщцывяпкдкнгвяжащчкяеыцьяжынврныяьянгрвуыянвяыовикт\n",
            "Iteration: 0, new energy: -4116.774275837834, accuracy: 0.058823529411764705\n",
            "Decoded text: вчфсяэгяэсдсцвяныщёкфшнгбясфсяюырцсяныщёкфшнгбяцвжчцяаямцыуыячыыоивнсьяжыцыщгбяфвужыяющырсцкцшячжыщввяэчвуыяэгяэчвячдвфкфсяющкэсфшныясяюыфарсцвяёкжчсёкфшнгбяокффяпкяюычфвднввярвцэвщцывяпкдкнсвяжащчкяеыцьяжынврныяьянсрвуыянвяыовикт\n",
            "\n",
            "Iteration: 50000, new energy: -2750.7377240000974, accuracy: 0.0\n",
            "Decoded text: если вы видите нормальный или почти нормальный текст у этого сообщения который легко прочитать скорее всего вы все сделали правильно и получите максимальный балл за последнее четвертое задание курса хотя конечно я ничего не обещаю\n",
            "\n",
            "Iteration: 100000, new energy: -2750.7377240000974, accuracy: 0.0\n",
            "Decoded text: если вы видите нормальный или почти нормальный текст у этого сообщения который легко прочитать скорее всего вы все сделали правильно и получите максимальный балл за последнее четвертое задание курса хотя конечно я ничего не обещаю\n",
            "\n",
            "Iteration: 150000, new energy: -2750.7377240000974, accuracy: 0.0\n",
            "Decoded text: если вы видите нормальный или почти нормальный текст у этого сообщения который легко прочитать скорее всего вы все сделали правильно и получите максимальный балл за последнее четвертое задание курса хотя конечно я ничего не обещаю\n",
            "\n",
            "Iteration: 200000, new energy: -2750.7377240000974, accuracy: 0.0\n",
            "Decoded text: если вы видите нормальный или почти нормальный текст у этого сообщения который легко прочитать скорее всего вы все сделали правильно и получите максимальный балл за последнее четвертое задание курса хотя конечно я ничего не обещаю\n",
            "\n",
            "Iteration: 250000, new energy: -2750.7377240000974, accuracy: 0.0\n",
            "Decoded text: если вы видите нормальный или почти нормальный текст у этого сообщения который легко прочитать скорее всего вы все сделали правильно и получите максимальный балл за последнее четвертое задание курса хотя конечно я ничего не обещаю\n",
            "\n",
            "Iteration: 300000, new energy: -2750.7377240000974, accuracy: 0.0\n",
            "Decoded text: если вы видите нормальный или почти нормальный текст у этого сообщения который легко прочитать скорее всего вы все сделали правильно и получите максимальный балл за последнее четвертое задание курса хотя конечно я ничего не обещаю\n",
            "\n",
            "Iteration: 350000, new energy: -2750.7377240000974, accuracy: 0.0\n",
            "Decoded text: если вы видите нормальный или почти нормальный текст у этого сообщения который легко прочитать скорее всего вы все сделали правильно и получите максимальный балл за последнее четвертое задание курса хотя конечно я ничего не обещаю\n",
            "\n",
            "Iteration: 400000, new energy: -2750.7377240000974, accuracy: 0.0\n",
            "Decoded text: если вы видите нормальный или почти нормальный текст у этого сообщения который легко прочитать скорее всего вы все сделали правильно и получите максимальный балл за последнее четвертое задание курса хотя конечно я ничего не обещаю\n",
            "\n",
            "Iteration: 450000, new energy: -2750.7377240000974, accuracy: 0.0\n",
            "Decoded text: если вы видите нормальный или почти нормальный текст у этого сообщения который легко прочитать скорее всего вы все сделали правильно и получите максимальный балл за последнее четвертое задание курса хотя конечно я ничего не обещаю\n",
            "\n"
          ]
        }
      ]
    },
    {
      "cell_type": "markdown",
      "source": [
        "###Сообщение декодировано на 100 % еще на первых 50000 итерациях. Однако, нужно много прогонов, чтобы получить хороший результат :("
      ],
      "metadata": {
        "id": "Lz767A4Ke97T"
      }
    },
    {
      "cell_type": "markdown",
      "source": [
        "##6. Бонус: какие вы можете придумать применения для этой модели? Пляшущие человечки ведь не так часто встречаются в жизни (хотя встречаются! и это самое потрясающее во всей этой истории, но об этом я расскажу потом).\n",
        "\n",
        "### а). Для авторедактирования орфографии. При использовании триграмм, мне кажется, хорошо будут определяться ошибки типа \"оро-оло\" и др., возможно нужен будет словарь слов-исключений и добавление символа \"-\" (для других правил типа \"пол-\", \"-то/либо/нибудь\") "
      ],
      "metadata": {
        "id": "HNQFvLQUi2An"
      }
    },
    {
      "cell_type": "code",
      "source": [],
      "metadata": {
        "id": "8TK3vTmlZ7Ub"
      },
      "execution_count": null,
      "outputs": []
    }
  ]
}